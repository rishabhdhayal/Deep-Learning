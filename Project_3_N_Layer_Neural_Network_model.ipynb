{
 "cells": [
  {
   "cell_type": "markdown",
   "id": "7cf83d42",
   "metadata": {},
   "source": [
    "# Project 3  -  N layer Deep Neural Network Model"
   ]
  },
  {
   "cell_type": "markdown",
   "id": "051884a0",
   "metadata": {},
   "source": [
    "![](https://raw.githubusercontent.com/rishabhdhayal/Deep-Learning/main/images/Dribbble%20shot%20-%205.svg)"
   ]
  },
  {
   "cell_type": "markdown",
   "id": "cda1a14b",
   "metadata": {},
   "source": [
    "### Import Libraries  "
   ]
  },
  {
   "cell_type": "code",
   "execution_count": 1,
   "id": "ffba06f5",
   "metadata": {
    "scrolled": true
   },
   "outputs": [],
   "source": [
    "import time\n",
    "import numpy as np\n",
    "import h5py\n",
    "import matplotlib.pyplot as plt\n",
    "import scipy\n",
    "from PIL import Image\n",
    "from scipy import ndimage\n",
    "\n",
    "\n",
    "np.random.seed(3)"
   ]
  },
  {
   "cell_type": "markdown",
   "id": "61025bc3",
   "metadata": {},
   "source": [
    "# Import Data"
   ]
  },
  {
   "cell_type": "code",
   "execution_count": 2,
   "id": "2b371e02",
   "metadata": {
    "scrolled": true
   },
   "outputs": [],
   "source": [
    "def load_data():\n",
    "    train_dataset = h5py.File('datasets/train_catvnoncat.h5', \"r\")\n",
    "    train_set_x_orig = np.array(train_dataset[\"train_set_x\"][:]) # your train set features\n",
    "    train_set_y_orig = np.array(train_dataset[\"train_set_y\"][:]) # your train set labels\n",
    "\n",
    "    test_dataset = h5py.File('datasets/test_catvnoncat.h5', \"r\")\n",
    "    test_set_x_orig = np.array(test_dataset[\"test_set_x\"][:]) # your test set features\n",
    "    test_set_y_orig = np.array(test_dataset[\"test_set_y\"][:]) # your test set labels\n",
    "\n",
    "    classes = np.array(test_dataset[\"list_classes\"][:]) # the list of classes\n",
    "    \n",
    "    train_set_y_orig = train_set_y_orig.reshape((1, train_set_y_orig.shape[0]))\n",
    "    test_set_y_orig = test_set_y_orig.reshape((1, test_set_y_orig.shape[0]))\n",
    "    \n",
    "    return train_set_x_orig, train_set_y_orig, test_set_x_orig, test_set_y_orig, classes"
   ]
  },
  {
   "cell_type": "code",
   "execution_count": 3,
   "id": "b8afa3f7",
   "metadata": {
    "scrolled": true
   },
   "outputs": [],
   "source": [
    "train_x_orig, train_y, test_x_orig, test_y, classes = load_data()"
   ]
  },
  {
   "cell_type": "markdown",
   "id": "5feb4542",
   "metadata": {},
   "source": [
    "### Let's check the image"
   ]
  },
  {
   "cell_type": "code",
   "execution_count": 4,
   "id": "d139610f",
   "metadata": {
    "scrolled": true
   },
   "outputs": [
    {
     "data": {
      "text/plain": [
       "<matplotlib.image.AxesImage at 0x19773c96100>"
      ]
     },
     "execution_count": 4,
     "metadata": {},
     "output_type": "execute_result"
    },
    {
     "data": {
      "image/png": "[encoded data removed]",
      "text/plain": [
       "<Figure size 432x288 with 1 Axes>"
      ]
     },
     "metadata": {
      "needs_background": "light"
     },
     "output_type": "display_data"
    }
   ],
   "source": [
    "plt.imshow(train_x_orig[14])"
   ]
  },
  {
   "cell_type": "markdown",
   "id": "f296a06d",
   "metadata": {},
   "source": [
    "#  Check The data dimensions"
   ]
  },
  {
   "cell_type": "code",
   "execution_count": 5,
   "id": "b013c23a",
   "metadata": {
    "scrolled": true
   },
   "outputs": [
    {
     "name": "stdout",
     "output_type": "stream",
     "text": [
      "Number of training examples: 209\n",
      "Number of testing examples: 50\n",
      "Each image is of size: (64, 64, 3)\n",
      "train_x_orig shape: (209, 64, 64, 3)\n",
      "train_y shape: (1, 209)\n",
      "test_x_orig shape: (50, 64, 64, 3)\n",
      "test_y shape: (1, 50)\n"
     ]
    }
   ],
   "source": [
    "m_train = train_x_orig.shape[0]\n",
    "num_px = train_x_orig.shape[1]\n",
    "m_test = test_x_orig.shape[0]\n",
    "\n",
    "print (\"Number of training examples: \" + str(m_train))\n",
    "print (\"Number of testing examples: \" + str(m_test))\n",
    "print (\"Each image is of size: (\" + str(num_px) + \", \" + str(num_px) + \", 3)\")\n",
    "print (\"train_x_orig shape: \" + str(train_x_orig.shape))\n",
    "print (\"train_y shape: \" + str(train_y.shape))\n",
    "print (\"test_x_orig shape: \" + str(test_x_orig.shape))\n",
    "print (\"test_y shape: \" + str(test_y.shape))"
   ]
  },
  {
   "cell_type": "markdown",
   "id": "2ab80ed8",
   "metadata": {},
   "source": [
    "# Flatten The data"
   ]
  },
  {
   "cell_type": "code",
   "execution_count": 6,
   "id": "dd52ccd8",
   "metadata": {
    "scrolled": true
   },
   "outputs": [
    {
     "data": {
      "text/plain": [
       "(12288, 209)"
      ]
     },
     "execution_count": 6,
     "metadata": {},
     "output_type": "execute_result"
    }
   ],
   "source": [
    "train_x_f = train_x_orig.reshape(train_x_orig.shape[0],-1).T\n",
    "train_x_f.shape"
   ]
  },
  {
   "cell_type": "code",
   "execution_count": 7,
   "id": "6380b59b",
   "metadata": {
    "scrolled": true
   },
   "outputs": [
    {
     "data": {
      "text/plain": [
       "(12288, 50)"
      ]
     },
     "execution_count": 7,
     "metadata": {},
     "output_type": "execute_result"
    }
   ],
   "source": [
    "test_x_f = test_x_orig.reshape(test_x_orig.shape[0],-1).T\n",
    "test_x_f.shape"
   ]
  },
  {
   "cell_type": "markdown",
   "id": "dd2c7aa0",
   "metadata": {},
   "source": [
    "# Standardize the data"
   ]
  },
  {
   "cell_type": "code",
   "execution_count": 8,
   "id": "6d1f0f50",
   "metadata": {
    "scrolled": true
   },
   "outputs": [],
   "source": [
    "train_x = train_x_f/255\n",
    "test_x = test_x_f/255"
   ]
  },
  {
   "cell_type": "markdown",
   "id": "3cae0bc9",
   "metadata": {},
   "source": [
    "# Model Important Functions\n",
    "\n",
    "### Initializing Parameters"
   ]
  },
  {
   "cell_type": "code",
   "execution_count": 9,
   "id": "066cf6de",
   "metadata": {},
   "outputs": [],
   "source": [
    "def initialize_parameters(layers_dim):\n",
    "    \n",
    "    np.random.seed(3)\n",
    "    \n",
    "    parameters = {}\n",
    "    L = len(layers_dim)\n",
    "    \n",
    "    for i in range(1,L):\n",
    "        parameters[\"W\" + str(i)] = np.random.randn(layers_dim[i],layers_dim[i-1])/ np.sqrt(layers_dim[i-1])\n",
    "        parameters[\"b\" + str(i)] = np.zeros((layers_dim[i],1))\n",
    "        \n",
    "    return parameters"
   ]
  },
  {
   "cell_type": "markdown",
   "id": "82187303",
   "metadata": {},
   "source": [
    "## Activation Functions"
   ]
  },
  {
   "cell_type": "code",
   "execution_count": 10,
   "id": "e62b04e7",
   "metadata": {},
   "outputs": [],
   "source": [
    "def sigmoid(Z):\n",
    "    A = 1/(1+np.exp(-Z))\n",
    "    cache = Z\n",
    "    \n",
    "    return A, cache\n",
    "\n",
    "def relu(Z):\n",
    "    A = np.maximum(0,Z)\n",
    "    \n",
    "    assert(A.shape == Z.shape)\n",
    "    \n",
    "    cache = Z \n",
    "    return A, cache\n",
    "\n",
    "\n",
    "def relu_backward(dA, cache):\n",
    "    Z = cache\n",
    "    dZ = np.array(dA, copy=True) \n",
    "    dZ[Z <= 0] = 0\n",
    "    \n",
    "    assert (dZ.shape == Z.shape)\n",
    "    \n",
    "    return dZ\n",
    "\n",
    "def sigmoid_backward(dA, cache):\n",
    "\n",
    "    Z = cache\n",
    "    \n",
    "    s = 1/(1+np.exp(-Z))\n",
    "    dZ = dA * s * (1-s)\n",
    "    \n",
    "    assert (dZ.shape == Z.shape)\n",
    "    \n",
    "    return dZ\n"
   ]
  },
  {
   "cell_type": "markdown",
   "id": "df0724b9",
   "metadata": {},
   "source": [
    "### Linear Forward"
   ]
  },
  {
   "cell_type": "code",
   "execution_count": 11,
   "id": "eec5b6dc",
   "metadata": {},
   "outputs": [],
   "source": [
    "def linear_forward(A,W,b):\n",
    "    \n",
    "#     Z = np.dot(W,A) + b\n",
    "    Z = W.dot(A) + b\n",
    "    \n",
    "    cache = (A,W,b)\n",
    "    \n",
    "    return Z, cache"
   ]
  },
  {
   "cell_type": "markdown",
   "id": "a19507b3",
   "metadata": {},
   "source": [
    "### Linear Activation"
   ]
  },
  {
   "cell_type": "code",
   "execution_count": 12,
   "id": "e70f4e0b",
   "metadata": {},
   "outputs": [],
   "source": [
    "def linear_activation_forward(A_prev, W, b, activation):\n",
    "    \n",
    "    Z , linear_cache = linear_forward(A_prev, W, b)\n",
    "    \n",
    "    if activation == \"relu\":\n",
    "        A, activation_cache = relu(Z)\n",
    "    \n",
    "    if activation == \"sigmoid\":\n",
    "        A, activation_cache = sigmoid(Z)\n",
    "        \n",
    "    cache = (linear_cache, activation_cache)\n",
    "        \n",
    "    return A, cache"
   ]
  },
  {
   "cell_type": "markdown",
   "id": "25cfa61e",
   "metadata": {},
   "source": [
    "### L Layer forward"
   ]
  },
  {
   "cell_type": "code",
   "execution_count": 13,
   "id": "eb8bd5c9",
   "metadata": {},
   "outputs": [],
   "source": [
    "def L_model_forward(X,parameters):\n",
    "    caches = []\n",
    "    A = X\n",
    "    L = len(parameters) // 2\n",
    "    \n",
    "    for i in range(1,L):\n",
    "        A_prev = A\n",
    "        \n",
    "        A, cache = linear_activation_forward(A_prev, parameters[\"W\" + str(i)], parameters[\"b\" + str(i)] , \"relu\")\n",
    "        caches.append(cache)\n",
    "        \n",
    "    AL, cache = linear_activation_forward(A, parameters[\"W\" + str(L)], parameters[\"b\" + str(L)] , \"sigmoid\")\n",
    "    caches.append(cache)\n",
    "    \n",
    "    return AL, caches"
   ]
  },
  {
   "cell_type": "markdown",
   "id": "d91dadb0",
   "metadata": {},
   "source": [
    "### Compute cost"
   ]
  },
  {
   "cell_type": "code",
   "execution_count": 14,
   "id": "4769a3b6",
   "metadata": {},
   "outputs": [],
   "source": [
    "def compute_cost(AL,Y):\n",
    "    \n",
    "    m = Y.shape[1]\n",
    "    \n",
    "    cost = (1./m) * (-np.dot(Y,np.log(AL).T) - np.dot(1-Y, np.log(1-AL).T))\n",
    "    cost = np.squeeze(cost)\n",
    "    return cost"
   ]
  },
  {
   "cell_type": "markdown",
   "id": "1edc8f6b",
   "metadata": {},
   "source": [
    "### Linear backward"
   ]
  },
  {
   "cell_type": "code",
   "execution_count": 15,
   "id": "c5de820e",
   "metadata": {},
   "outputs": [],
   "source": [
    "def linear_backward(dZ, cache):\n",
    "    \n",
    "    A_prev, W, b = cache\n",
    "    m = A_prev.shape[1]\n",
    "    \n",
    "    dW = (1./m)*np.dot(dZ,A_prev.T)\n",
    "    db = (1./m)*np.sum(dZ,axis = 1, keepdims=True)\n",
    "    dA_prev = np.dot(W.T,dZ)\n",
    "    \n",
    "    return dA_prev, dW, db"
   ]
  },
  {
   "cell_type": "markdown",
   "id": "ca5bb40a",
   "metadata": {},
   "source": [
    "### Linear Activation Backward"
   ]
  },
  {
   "cell_type": "code",
   "execution_count": 16,
   "id": "660ed279",
   "metadata": {},
   "outputs": [],
   "source": [
    "def linear_activation_backward(dA, cache, activation):\n",
    "    \n",
    "    linear_cache, activation_cache = cache\n",
    "    \n",
    "    if activation == \"relu\":\n",
    "        dZ =  relu_backward(dA, activation_cache)\n",
    "\n",
    "    elif activation == \"sigmoid\":\n",
    "        dZ =  sigmoid_backward(dA, activation_cache)\n",
    "\n",
    "    dA_prev, dW, db = linear_backward(dZ,linear_cache)  \n",
    "    \n",
    "    return dA_prev, dW, db"
   ]
  },
  {
   "cell_type": "markdown",
   "id": "5deedab3",
   "metadata": {},
   "source": [
    "### L layer backword"
   ]
  },
  {
   "cell_type": "code",
   "execution_count": 17,
   "id": "07477dfa",
   "metadata": {},
   "outputs": [],
   "source": [
    "def L_model_backward(AL, Y, caches):\n",
    "    grads = {}\n",
    "    L = len(caches) \n",
    "    m = AL.shape[1]\n",
    "    Y = Y.reshape(AL.shape)\n",
    "    dAL =  - (np.divide(Y, AL) - np.divide(1 - Y, 1 - AL))\n",
    "    \n",
    "    current_cache = caches[L-1]\n",
    "    dA_prev_temp, dW_temp, db_temp = linear_activation_backward(dAL, current_cache, activation=\"sigmoid\")\n",
    "    grads[\"dA\" + str(L-1)] = dA_prev_temp\n",
    "    grads[\"dW\" + str(L)] = dW_temp\n",
    "    grads[\"db\" + str(L)] = db_temp\n",
    "    \n",
    "    for l in reversed(range(L-1)):\n",
    "        current_cache = caches[l]\n",
    "        dA_prev_temp, dW_temp, db_temp = linear_activation_backward(grads[\"dA\" + str(l + 1)], current_cache, activation=\"relu\")\n",
    "        grads[\"dA\" + str(l)] = dA_prev_temp\n",
    "        grads[\"dW\" + str(l + 1)] = dW_temp\n",
    "        grads[\"db\" + str(l + 1)] = db_temp\n",
    "        \n",
    "    return grads"
   ]
  },
  {
   "cell_type": "markdown",
   "id": "7932eb95",
   "metadata": {},
   "source": [
    "### Update Parameters"
   ]
  },
  {
   "cell_type": "code",
   "execution_count": 22,
   "id": "c9b87144",
   "metadata": {},
   "outputs": [],
   "source": [
    "def update_parameters(parameters, grads, learning_rate):\n",
    "\n",
    "    L = len(parameters) // 2 \n",
    "\n",
    "    for l in range(L):\n",
    "        parameters[\"W\" + str(l+1)] = parameters[\"W\" + str(l+1)] - learning_rate * grads[\"dW\" + str(l+1)]\n",
    "        parameters[\"b\" + str(l+1)] = parameters[\"b\" + str(l+1)] - learning_rate * grads[\"db\" + str(l+1)]\n",
    "    return parameters"
   ]
  },
  {
   "cell_type": "markdown",
   "id": "c02fd748",
   "metadata": {},
   "source": [
    "# Model"
   ]
  },
  {
   "cell_type": "code",
   "execution_count": 23,
   "id": "32f18475",
   "metadata": {
    "scrolled": true
   },
   "outputs": [],
   "source": [
    "layers_dims = [12288,20,7,5,1]"
   ]
  },
  {
   "cell_type": "code",
   "execution_count": 24,
   "id": "6c7b7400",
   "metadata": {
    "scrolled": true
   },
   "outputs": [],
   "source": [
    "def deep_layer_model(X,Y,layer_dims,learning_rate,iterations):\n",
    "    \n",
    "    np.random.seed(22)\n",
    "    \n",
    "    m = Y.shape[1]\n",
    "    \n",
    "    parameters = initialize_parameters(layer_dims)\n",
    "    \n",
    "    for i in range(0,iterations):\n",
    "        \n",
    "        AL, caches = L_model_forward(X, parameters)\n",
    "        \n",
    "        cost =  compute_cost(AL, Y)\n",
    "        \n",
    "        grads = L_model_backward(AL, Y, caches) \n",
    "        \n",
    "        parameters = update_parameters(parameters, grads, learning_rate)\n",
    "        \n",
    "        if i % 100 == 0 or i == iterations - 1:\n",
    "            print(\"Cost after iteration {}: {}\".format(i, np.squeeze(cost)))\n",
    "    \n",
    "    return parameters, cost\n",
    "        "
   ]
  },
  {
   "cell_type": "code",
   "execution_count": 25,
   "id": "d9f52085",
   "metadata": {
    "scrolled": true
   },
   "outputs": [
    {
     "name": "stdout",
     "output_type": "stream",
     "text": [
      "Cost after iteration 0: 0.7157315134137129\n",
      "Cost after iteration 100: 0.6747377593469114\n",
      "Cost after iteration 200: 0.6603365433622127\n",
      "Cost after iteration 300: 0.6462887802148751\n",
      "Cost after iteration 400: 0.6298131216927771\n",
      "Cost after iteration 500: 0.606005622926534\n",
      "Cost after iteration 600: 0.5690041263975134\n",
      "Cost after iteration 700: 0.519796535043806\n",
      "Cost after iteration 800: 0.4641571678628229\n",
      "Cost after iteration 900: 0.40842030048298916\n",
      "Cost after iteration 1000: 0.3731549921606904\n",
      "Cost after iteration 1100: 0.3057237457304713\n",
      "Cost after iteration 1200: 0.2681015284774085\n",
      "Cost after iteration 1300: 0.2387247482767256\n",
      "Cost after iteration 1400: 0.20632263257914704\n",
      "Cost after iteration 1500: 0.17943886927493516\n",
      "Cost after iteration 1600: 0.15798735818801024\n",
      "Cost after iteration 1700: 0.14240413012273687\n",
      "Cost after iteration 1800: 0.1286516599788459\n",
      "Cost after iteration 1900: 0.11244314998151543\n",
      "Cost after iteration 2000: 0.08505631034959686\n",
      "Cost after iteration 2100: 0.05758391198600929\n",
      "Cost after iteration 2200: 0.04456753454691523\n",
      "Cost after iteration 2300: 0.038082751665965205\n",
      "Cost after iteration 2400: 0.03441074901839563\n",
      "Cost after iteration 2499: 0.03176649230103502\n"
     ]
    }
   ],
   "source": [
    "parameters, costs = deep_layer_model(train_x, train_y, layers_dims,0.0075, iterations = 2500,)\n"
   ]
  },
  {
   "cell_type": "code",
   "execution_count": 26,
   "id": "c610ae5b",
   "metadata": {},
   "outputs": [],
   "source": [
    "def predict(X, y, parameters):\n",
    "    m = X.shape[1]\n",
    "    n = len(parameters) // 2 \n",
    "    p = np.zeros((1,m))\n",
    "    \n",
    "    probas, caches = L_model_forward(X, parameters)\n",
    "\n",
    "    for i in range(0, probas.shape[1]):\n",
    "        if probas[0,i] > 0.5:\n",
    "            p[0,i] = 1\n",
    "        else:\n",
    "            p[0,i] = 0\n",
    "    \n",
    "    print(\"Accuracy: \"  + str(np.sum((p == y)/m)))\n",
    "        \n",
    "    return p"
   ]
  },
  {
   "cell_type": "code",
   "execution_count": 27,
   "id": "11f42529",
   "metadata": {
    "scrolled": true
   },
   "outputs": [
    {
     "name": "stdout",
     "output_type": "stream",
     "text": [
      "Accuracy: 0.9952153110047844\n"
     ]
    }
   ],
   "source": [
    "pred_train = predict(train_x, train_y, parameters)"
   ]
  },
  {
   "cell_type": "code",
   "execution_count": 28,
   "id": "1a3a6b2c",
   "metadata": {
    "scrolled": true
   },
   "outputs": [
    {
     "name": "stdout",
     "output_type": "stream",
     "text": [
      "Accuracy: 0.78\n"
     ]
    }
   ],
   "source": [
    "pred_test = predict(test_x, test_y, parameters)"
   ]
  },
  {
   "cell_type": "code",
   "execution_count": null,
   "id": "805f41c0",
   "metadata": {
    "scrolled": true
   },
   "outputs": [],
   "source": []
  }
 ],
 "metadata": {
  "kernelspec": {
   "display_name": "Python 3 (ipykernel)",
   "language": "python",
   "name": "python3"
  },
  "language_info": {
   "codemirror_mode": {
    "name": "ipython",
    "version": 3
   },
   "file_extension": ".py",
   "mimetype": "text/x-python",
   "name": "python",
   "nbconvert_exporter": "python",
   "pygments_lexer": "ipython3",
   "version": "3.9.12"
  }
 },
 "nbformat": 4,
 "nbformat_minor": 5
}
