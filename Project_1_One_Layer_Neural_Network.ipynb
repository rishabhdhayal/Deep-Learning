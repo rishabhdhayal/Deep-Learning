{
 "cells": [
  {
   "cell_type": "markdown",
   "id": "51493d9a",
   "metadata": {},
   "source": [
    "# One Layer Deep Learning Model From Scratch "
   ]
  },
  {
   "cell_type": "markdown",
   "id": "0aea3816",
   "metadata": {},
   "source": [
    "#### Map of the model \n",
    "- 1 Input Layer \n",
    "- 1 Output Layer \n",
    "- Activation Function"
   ]
  },
  {
   "cell_type": "markdown",
   "id": "8a8eb50e",
   "metadata": {},
   "source": [
    "![Dribbble%20shot%20-%201.svg](https://raw.githubusercontent.com/rishabhdhayal/Deep-Learning/main/images/Dribbble%20shot%20-%201.svg)"
   ]
  },
  {
   "cell_type": "markdown",
   "id": "f26d8f37",
   "metadata": {},
   "source": [
    "## Importing Libraries"
   ]
  },
  {
   "cell_type": "code",
   "execution_count": 1,
   "id": "618def70",
   "metadata": {},
   "outputs": [],
   "source": [
    "import numpy as np\n",
    "import copy\n",
    "import matplotlib.pyplot as plt\n",
    "import h5py\n",
    "import scipy\n",
    "from PIL import Image\n",
    "from scipy import ndimage"
   ]
  },
  {
   "cell_type": "markdown",
   "id": "4115fcf9",
   "metadata": {},
   "source": [
    "## Loading Dataset  function"
   ]
  },
  {
   "cell_type": "code",
   "execution_count": 2,
   "id": "2ff4d5ed",
   "metadata": {},
   "outputs": [],
   "source": [
    "def load_dataset():\n",
    "    train_dataset = h5py.File('datasets/train_catvnoncat.h5', \"r\")\n",
    "    train_set_x_orig = np.array(train_dataset[\"train_set_x\"][:]) # your train set features\n",
    "    train_set_y_orig = np.array(train_dataset[\"train_set_y\"][:]) # your train set labels\n",
    "\n",
    "    test_dataset = h5py.File('datasets/test_catvnoncat.h5', \"r\")\n",
    "    test_set_x_orig = np.array(test_dataset[\"test_set_x\"][:]) # your test set features\n",
    "    test_set_y_orig = np.array(test_dataset[\"test_set_y\"][:]) # your test set labels\n",
    "\n",
    "    classes = np.array(test_dataset[\"list_classes\"][:]) # the list of classes\n",
    "    \n",
    "    train_set_y_orig = train_set_y_orig.reshape((1, train_set_y_orig.shape[0]))\n",
    "    test_set_y_orig = test_set_y_orig.reshape((1, test_set_y_orig.shape[0]))\n",
    "    \n",
    "    return train_set_x_orig, train_set_y_orig, test_set_x_orig, test_set_y_orig, classes\n"
   ]
  },
  {
   "cell_type": "markdown",
   "id": "c93e4859",
   "metadata": {},
   "source": [
    "# Load Data"
   ]
  },
  {
   "cell_type": "code",
   "execution_count": 3,
   "id": "dc6d1ff1",
   "metadata": {},
   "outputs": [],
   "source": [
    "train_set_x_orig, train_set_y, test_set_x_orig, test_set_y, classes = load_dataset()"
   ]
  },
  {
   "cell_type": "markdown",
   "id": "a5d10fc0",
   "metadata": {},
   "source": [
    "![Dribbble%20shot%20-%203.svg](https://raw.githubusercontent.com/rishabhdhayal/Deep-Learning/948d8971a9d09cf22a349fae012aa21db1061266/images/Dribbble%20shot%20-%203.svg)"
   ]
  },
  {
   "cell_type": "markdown",
   "id": "c7fc7ea0",
   "metadata": {},
   "source": [
    "## Flattening data"
   ]
  },
  {
   "cell_type": "code",
   "execution_count": 4,
   "id": "aa597191",
   "metadata": {},
   "outputs": [
    {
     "data": {
      "text/plain": [
       "(209, 64, 64, 3)"
      ]
     },
     "execution_count": 4,
     "metadata": {},
     "output_type": "execute_result"
    }
   ],
   "source": [
    "train_set_x_orig.shape"
   ]
  },
  {
   "cell_type": "code",
   "execution_count": 5,
   "id": "e24350ad",
   "metadata": {},
   "outputs": [],
   "source": [
    "train_x = train_set_x_orig.reshape(train_set_x_orig.shape[0],-1).T\n",
    "test_x = test_set_x_orig.reshape(test_set_x_orig.shape[0],-1).T"
   ]
  },
  {
   "cell_type": "code",
   "execution_count": 6,
   "id": "1251349a",
   "metadata": {},
   "outputs": [
    {
     "data": {
      "text/plain": [
       "(12288, 209)"
      ]
     },
     "execution_count": 6,
     "metadata": {},
     "output_type": "execute_result"
    }
   ],
   "source": [
    "train_x.shape"
   ]
  },
  {
   "cell_type": "code",
   "execution_count": 7,
   "id": "50528985",
   "metadata": {},
   "outputs": [
    {
     "data": {
      "text/plain": [
       "(12288, 50)"
      ]
     },
     "execution_count": 7,
     "metadata": {},
     "output_type": "execute_result"
    }
   ],
   "source": [
    "test_x.shape"
   ]
  },
  {
   "cell_type": "code",
   "execution_count": 8,
   "id": "e62ec257",
   "metadata": {},
   "outputs": [
    {
     "data": {
      "text/plain": [
       "(1, 209)"
      ]
     },
     "execution_count": 8,
     "metadata": {},
     "output_type": "execute_result"
    }
   ],
   "source": [
    "train_set_y.shape"
   ]
  },
  {
   "cell_type": "code",
   "execution_count": 9,
   "id": "a2c83197",
   "metadata": {},
   "outputs": [
    {
     "data": {
      "text/plain": [
       "(1, 50)"
      ]
     },
     "execution_count": 9,
     "metadata": {},
     "output_type": "execute_result"
    }
   ],
   "source": [
    "test_set_y.shape"
   ]
  },
  {
   "cell_type": "markdown",
   "id": "6c7d16cb",
   "metadata": {},
   "source": [
    "## Standardize data"
   ]
  },
  {
   "cell_type": "markdown",
   "id": "bfca9df4",
   "metadata": {},
   "source": [
    "![Dribbble%20shot%20-%204.svg](https://raw.githubusercontent.com/rishabhdhayal/Deep-Learning/main/images/Dribbble%20shot%20-%204.svg)"
   ]
  },
  {
   "cell_type": "code",
   "execution_count": 10,
   "id": "62161238",
   "metadata": {},
   "outputs": [],
   "source": [
    "train_set_x = train_x/255\n",
    "test_set_x = test_x/255"
   ]
  },
  {
   "cell_type": "markdown",
   "id": "e76a61ff",
   "metadata": {},
   "source": [
    "## Helper functions\n",
    "\n",
    "### Sigmoid"
   ]
  },
  {
   "cell_type": "code",
   "execution_count": 11,
   "id": "4e7cd505",
   "metadata": {},
   "outputs": [],
   "source": [
    "def sigmoid(x):\n",
    "    s = 1/(1+np.exp(-x))\n",
    "    return s"
   ]
  },
  {
   "cell_type": "markdown",
   "id": "b4fc7e7f",
   "metadata": {},
   "source": [
    "### Initializing parameters"
   ]
  },
  {
   "cell_type": "code",
   "execution_count": 12,
   "id": "642d3cab",
   "metadata": {},
   "outputs": [],
   "source": [
    "def initializing_parameters(dim):\n",
    "    w = np.zeros((dim,1))\n",
    "    b = np.zeros((1,1))\n",
    "    \n",
    "    return w,b"
   ]
  },
  {
   "cell_type": "markdown",
   "id": "55f4b07e",
   "metadata": {},
   "source": [
    "## Forward Propogation"
   ]
  },
  {
   "cell_type": "code",
   "execution_count": 13,
   "id": "0c86f9c8",
   "metadata": {},
   "outputs": [],
   "source": [
    "def forward_propogation(w,b,x,Y):\n",
    "    \n",
    "    m = x.shape[1]\n",
    "    \n",
    "    z = np.dot(w.T,x) + b\n",
    "    \n",
    "    A = sigmoid(z)\n",
    "    \n",
    "    cost  =  (-1/m)*np.sum(Y* np.log(A) + (1 - Y)*np.log(1-A))\n",
    "    \n",
    "    dw = (1/m)* np.dot(x, (A-Y).T)\n",
    "    db = (1/m) * np.sum(A - Y)\n",
    "    \n",
    "    grads = {\"dw\":dw,\n",
    "            \"db\":db,}\n",
    "    cost = np.array(cost)\n",
    "    \n",
    "    return grads , cost"
   ]
  },
  {
   "cell_type": "markdown",
   "id": "b4d89c9f",
   "metadata": {},
   "source": [
    "## Back ward propogate and optamize on m images"
   ]
  },
  {
   "cell_type": "code",
   "execution_count": 14,
   "id": "ea66fcc1",
   "metadata": {},
   "outputs": [],
   "source": [
    "def optimize(w,b,x,y,iterations,learning_rate):\n",
    "    for i in range(iterations):\n",
    "        grads, cost = forward_propogation(w,b,x,y)\n",
    "        \n",
    "        dw = grads[\"dw\"]\n",
    "        db = grads[\"db\"]\n",
    "        \n",
    "        w = w - learning_rate*dw\n",
    "        b = b - learning_rate*db\n",
    "        \n",
    "    params = {\"w\": w,\n",
    "              \"b\": b}\n",
    "    \n",
    "    grads = {\"dw\": dw,\n",
    "             \"db\": db}\n",
    "    \n",
    "    return params , grads , cost"
   ]
  },
  {
   "cell_type": "code",
   "execution_count": 15,
   "id": "82646329",
   "metadata": {},
   "outputs": [],
   "source": [
    "# Test data\n",
    "w =  np.array([[1.], [2]])\n",
    "b = 1.5\n",
    "X = np.array([[1., -2., -1.], [3., 0.5, -3.2]])\n",
    "Y = np.array([[1, 1, 0]])\n",
    "grads, cost = forward_propogation(w, b, X, Y)"
   ]
  },
  {
   "cell_type": "code",
   "execution_count": 16,
   "id": "2d59e935",
   "metadata": {},
   "outputs": [
    {
     "data": {
      "text/plain": [
       "array(0.15900538)"
      ]
     },
     "execution_count": 16,
     "metadata": {},
     "output_type": "execute_result"
    }
   ],
   "source": [
    "cost"
   ]
  },
  {
   "cell_type": "code",
   "execution_count": 17,
   "id": "414f2236",
   "metadata": {},
   "outputs": [
    {
     "name": "stdout",
     "output_type": "stream",
     "text": [
      "w = [[0.80956046]\n",
      " [2.0508202 ]]\n",
      "b = 1.5948713189708588\n",
      "dw = [[ 0.17860505]\n",
      " [-0.04840656]]\n",
      "db = -0.08888460336847771\n",
      "Costs = 0.10579008649578009\n"
     ]
    }
   ],
   "source": [
    "params, grads, costs = optimize(w, b, X, Y, iterations=100, learning_rate=0.009)\n",
    "\n",
    "print (\"w = \" + str(params[\"w\"]))\n",
    "print (\"b = \" + str(params[\"b\"]))\n",
    "print (\"dw = \" + str(grads[\"dw\"]))\n",
    "print (\"db = \" + str(grads[\"db\"]))\n",
    "print(\"Costs = \" + str(costs))"
   ]
  },
  {
   "cell_type": "code",
   "execution_count": 18,
   "id": "0286be78",
   "metadata": {},
   "outputs": [],
   "source": [
    "def predict(w,b,x):\n",
    "    \n",
    "    Y_prediction = np.zeros((1,x.shape[1]))\n",
    "    \n",
    "#     w = w.reshape(X.shape[0], 1)\n",
    "    a = sigmoid(np.dot(w.T,x) + b)\n",
    "    \n",
    "    for i in range(x.shape[1]):\n",
    "        if a[0,i] < 0.5:\n",
    "            Y_prediction[0,i] = 0\n",
    "        else:\n",
    "            Y_prediction[0,i] = 1\n",
    "    return Y_prediction"
   ]
  },
  {
   "cell_type": "code",
   "execution_count": 21,
   "id": "70b84b0c",
   "metadata": {},
   "outputs": [],
   "source": [
    "def model( x_train, y_train, x_test, y_test, iterations, learning_rate):\n",
    "    w,b = initializing_parameters(x_train.shape[0])\n",
    "    \n",
    "    params, grads, cost = optimize(w,b,x_train,y_train,iterations,learning_rate)\n",
    "    \n",
    "    w = params[\"w\"]\n",
    "    b = params[\"b\"]\n",
    "    \n",
    "    Y_p = predict(w,b,x_test)\n",
    "    \n",
    "    test_accuracy =  100 - np.mean(np.abs(Y_p - y_test)) * 100\n",
    "    print(\"accuracy =\",test_accuracy)\n",
    "    return test_accuracy"
   ]
  },
  {
   "cell_type": "code",
   "execution_count": 22,
   "id": "6cc0f8db",
   "metadata": {},
   "outputs": [
    {
     "name": "stdout",
     "output_type": "stream",
     "text": [
      "accuracy = 80.0\n"
     ]
    },
    {
     "data": {
      "text/plain": [
       "80.0"
      ]
     },
     "execution_count": 22,
     "metadata": {},
     "output_type": "execute_result"
    }
   ],
   "source": [
    "model(train_set_x, train_set_y, test_set_x, test_set_y,200, 0.005)"
   ]
  },
  {
   "cell_type": "code",
   "execution_count": null,
   "id": "3a6f7820",
   "metadata": {},
   "outputs": [],
   "source": []
  }
 ],
 "metadata": {
  "kernelspec": {
   "display_name": "Python 3 (ipykernel)",
   "language": "python",
   "name": "python3"
  },
  "language_info": {
   "codemirror_mode": {
    "name": "ipython",
    "version": 3
   },
   "file_extension": ".py",
   "mimetype": "text/x-python",
   "name": "python",
   "nbconvert_exporter": "python",
   "pygments_lexer": "ipython3",
   "version": "3.9.12"
  }
 },
 "nbformat": 4,
 "nbformat_minor": 5
}
